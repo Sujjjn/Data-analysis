{
 "cells": [
  {
   "cell_type": "code",
   "execution_count": 1,
   "id": "3f83bfef",
   "metadata": {},
   "outputs": [],
   "source": [
    "\n",
    "import numpy as np\n",
    "import matplotlib.pyplot as plt\n",
    "import pandas as  pd\n",
    "\n"
   ]
  },
  {
   "cell_type": "code",
   "execution_count": 2,
   "id": "2e2d039e",
   "metadata": {},
   "outputs": [],
   "source": [
    "import numpy as np\n",
    "\n",
    "def calculate(list):\n",
    "    if len(list) == 9:\n",
    "        arr = np.array(list)\n",
    "        num = np.reshape(arr, (3,3))\n",
    "\n",
    "        calculations = {\n",
    "            'mean': [np.mean(num, axis = 0).tolist(),\n",
    "                     np.mean(num, axis = 1).tolist(),\n",
    "                     np.mean(num)],\n",
    "          \n",
    "            'variance': [np.var(num, axis = 0).tolist(),\n",
    "                         np.var(num, axis = 1).tolist(),\n",
    "                         np.var(num.flatten())],\n",
    "          \n",
    "            'standard deviation': [np.std(num, axis = 0).tolist(),\n",
    "                                   np.std(num, axis = 1).tolist(),\n",
    "                                   np.std(num)],\n",
    "              \n",
    "            'max': [np.max(num, axis = 0).tolist(),\n",
    "                    np.max(num, axis = 1).tolist(),\n",
    "                    np.max(num.flatten())],\n",
    "          \n",
    "            'min': [np.min(num, axis = 0).tolist(),\n",
    "                    np.min(num, axis = 1).tolist(),\n",
    "                    np.min(num.flatten())],\n",
    "          \n",
    "            'sum': [np.sum(num, axis = 0).tolist(),\n",
    "                     np.sum(num, axis = 1).tolist(),\n",
    "                     np.sum(num.flatten())]\n",
    "        }\n",
    "        \n",
    "    else:\n",
    "        raise ValueError(\"List must contain nine numbers.\")\n",
    "    return calculations"
   ]
  },
  {
   "cell_type": "code",
   "execution_count": null,
   "id": "d91e92cb",
   "metadata": {},
   "outputs": [],
   "source": []
  }
 ],
 "metadata": {
  "kernelspec": {
   "display_name": "Python 3 (ipykernel)",
   "language": "python",
   "name": "python3"
  },
  "language_info": {
   "codemirror_mode": {
    "name": "ipython",
    "version": 3
   },
   "file_extension": ".py",
   "mimetype": "text/x-python",
   "name": "python",
   "nbconvert_exporter": "python",
   "pygments_lexer": "ipython3",
   "version": "3.11.5"
  }
 },
 "nbformat": 4,
 "nbformat_minor": 5
}
